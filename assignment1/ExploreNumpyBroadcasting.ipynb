{
 "cells": [
  {
   "cell_type": "markdown",
   "id": "renewable-above",
   "metadata": {},
   "source": [
    "# Exploring Numpy Array Broadcasting rules\n",
    "\n",
    "Key idea = The Broadcasting Rule\n",
    "\n",
    "> In order to broadcast, the size of the trailing axes for both arrays in an operation must either be the same size or one of them must be one.\n",
    "\n",
    "\n",
    "\n",
    "see: \n",
    " - https://numpy.org/doc/stable/user/basics.broadcasting.html\n",
    " - https://numpy.org/devdocs/user/theory.broadcasting.html\n"
   ]
  },
  {
   "cell_type": "code",
   "execution_count": 1,
   "id": "allied-retirement",
   "metadata": {},
   "outputs": [],
   "source": [
    "import numpy as np\n"
   ]
  },
  {
   "cell_type": "code",
   "execution_count": 126,
   "id": "native-explosion",
   "metadata": {},
   "outputs": [
    {
     "name": "stdout",
     "output_type": "stream",
     "text": [
      "(4, 3)\n"
     ]
    },
    {
     "data": {
      "text/plain": [
       "array([[0, 1, 2],\n",
       "       [1, 1, 1],\n",
       "       [2, 2, 2],\n",
       "       [3, 3, 3]])"
      ]
     },
     "execution_count": 126,
     "metadata": {},
     "output_type": "execute_result"
    }
   ],
   "source": [
    "X = np.array(np.mat(\n",
    "\"\"\"\n",
    "0 1 2;\n",
    "1 1 1;\n",
    "2 2 2;\n",
    "3 3 3\n",
    "\"\"\"))\n",
    "print(X.shape)\n",
    "X"
   ]
  },
  {
   "cell_type": "code",
   "execution_count": 127,
   "id": "supposed-victory",
   "metadata": {},
   "outputs": [
    {
     "name": "stdout",
     "output_type": "stream",
     "text": [
      "(3,)\n"
     ]
    },
    {
     "data": {
      "text/plain": [
       "array([10, 11, 12])"
      ]
     },
     "execution_count": 127,
     "metadata": {},
     "output_type": "execute_result"
    }
   ],
   "source": [
    "v = np.array([10,11,12])\n",
    "print(v.shape)\n",
    "v"
   ]
  },
  {
   "cell_type": "code",
   "execution_count": 158,
   "id": "muslim-layout",
   "metadata": {},
   "outputs": [
    {
     "name": "stdout",
     "output_type": "stream",
     "text": [
      "X.shape (4, 3)\n",
      "v.shape (3,)\n"
     ]
    },
    {
     "data": {
      "text/plain": [
       "array([[10, 12, 14],\n",
       "       [11, 12, 13],\n",
       "       [12, 13, 14],\n",
       "       [13, 14, 15]])"
      ]
     },
     "execution_count": 158,
     "metadata": {},
     "output_type": "execute_result"
    }
   ],
   "source": [
    "print('X.shape', X.shape)\n",
    "print('v.shape', v.shape)\n",
    "X + v"
   ]
  },
  {
   "cell_type": "code",
   "execution_count": null,
   "id": "likely-helena",
   "metadata": {},
   "outputs": [],
   "source": []
  },
  {
   "cell_type": "code",
   "execution_count": 156,
   "id": "unknown-pleasure",
   "metadata": {},
   "outputs": [
    {
     "name": "stdout",
     "output_type": "stream",
     "text": [
      "(1, 3)\n"
     ]
    },
    {
     "data": {
      "text/plain": [
       "array([[10, 11, 12]])"
      ]
     },
     "execution_count": 156,
     "metadata": {},
     "output_type": "execute_result"
    }
   ],
   "source": [
    "# alternatively make explicit 1\n",
    "vv = np.reshape(v, (1,3))\n",
    "print(vv.shape)\n",
    "vv"
   ]
  },
  {
   "cell_type": "code",
   "execution_count": 157,
   "id": "allied-possible",
   "metadata": {},
   "outputs": [
    {
     "name": "stdout",
     "output_type": "stream",
     "text": [
      "X.shape (4, 3)\n",
      "vv.shape (1, 3)\n"
     ]
    },
    {
     "data": {
      "text/plain": [
       "array([[10, 12, 14],\n",
       "       [11, 12, 13],\n",
       "       [12, 13, 14],\n",
       "       [13, 14, 15]])"
      ]
     },
     "execution_count": 157,
     "metadata": {},
     "output_type": "execute_result"
    }
   ],
   "source": [
    "print('X.shape', X.shape)\n",
    "print('vv.shape', vv.shape)\n",
    "X + vv"
   ]
  },
  {
   "cell_type": "code",
   "execution_count": null,
   "id": "starting-tokyo",
   "metadata": {},
   "outputs": [],
   "source": []
  },
  {
   "cell_type": "code",
   "execution_count": null,
   "id": "challenging-terrorist",
   "metadata": {},
   "outputs": [],
   "source": []
  },
  {
   "cell_type": "code",
   "execution_count": null,
   "id": "mexican-tragedy",
   "metadata": {},
   "outputs": [],
   "source": []
  },
  {
   "cell_type": "code",
   "execution_count": null,
   "id": "weekly-harmony",
   "metadata": {},
   "outputs": [],
   "source": []
  },
  {
   "cell_type": "code",
   "execution_count": null,
   "id": "appointed-translation",
   "metadata": {},
   "outputs": [],
   "source": []
  },
  {
   "cell_type": "code",
   "execution_count": null,
   "id": "spare-management",
   "metadata": {},
   "outputs": [],
   "source": []
  },
  {
   "cell_type": "code",
   "execution_count": null,
   "id": "hundred-auditor",
   "metadata": {},
   "outputs": [],
   "source": []
  },
  {
   "cell_type": "code",
   "execution_count": null,
   "id": "living-isolation",
   "metadata": {},
   "outputs": [],
   "source": []
  },
  {
   "cell_type": "code",
   "execution_count": 204,
   "id": "mobile-secretary",
   "metadata": {},
   "outputs": [
    {
     "data": {
      "text/plain": [
       "array([[5, 5, 5],\n",
       "       [6, 6, 6],\n",
       "       [7, 7, 7],\n",
       "       [8, 8, 8],\n",
       "       [9, 9, 9]])"
      ]
     },
     "execution_count": 204,
     "metadata": {},
     "output_type": "execute_result"
    }
   ],
   "source": [
    "Y = np.array(np.mat(\n",
    "\"\"\"\n",
    "5 5 5;\n",
    "6 6 6;\n",
    "7 7 7;\n",
    "8 8 8;\n",
    "9 9 9\n",
    "\"\"\"))\n",
    "Y"
   ]
  },
  {
   "cell_type": "code",
   "execution_count": null,
   "id": "focused-catch",
   "metadata": {},
   "outputs": [],
   "source": []
  },
  {
   "cell_type": "code",
   "execution_count": null,
   "id": "collected-symbol",
   "metadata": {},
   "outputs": [],
   "source": []
  },
  {
   "cell_type": "code",
   "execution_count": null,
   "id": "figured-kentucky",
   "metadata": {},
   "outputs": [],
   "source": []
  },
  {
   "cell_type": "markdown",
   "id": "clear-wilderness",
   "metadata": {},
   "source": [
    "## One for loop approach"
   ]
  },
  {
   "cell_type": "code",
   "execution_count": 205,
   "id": "greek-broad",
   "metadata": {},
   "outputs": [
    {
     "data": {
      "text/plain": [
       "array([[ 7.07106781,  8.77496439, 10.48808848, 12.20655562, 13.92838828],\n",
       "       [ 6.92820323,  8.66025404, 10.39230485, 12.12435565, 13.85640646],\n",
       "       [ 5.19615242,  6.92820323,  8.66025404, 10.39230485, 12.12435565],\n",
       "       [ 3.46410162,  5.19615242,  6.92820323,  8.66025404, 10.39230485]])"
      ]
     },
     "execution_count": 205,
     "metadata": {},
     "output_type": "execute_result"
    }
   ],
   "source": [
    "diffs1 = np.zeros( (X.shape[0], Y.shape[0]) )\n",
    "\n",
    "for i in range(X.shape[0]):\n",
    "    x_test = X[i,:]\n",
    "    # diffs1[i,:] = -1*np.sum(Y - x_test, axis=1)\n",
    "    diffs1[i,:] = np.sqrt(np.sum(np.square(Y - x_test), axis=1))\n",
    "\n",
    "\n",
    "diffs1"
   ]
  },
  {
   "cell_type": "code",
   "execution_count": 207,
   "id": "pending-protection",
   "metadata": {},
   "outputs": [
    {
     "name": "stdout",
     "output_type": "stream",
     "text": [
      "All close\n"
     ]
    }
   ],
   "source": [
    "# check diffs1 against naive method (two for loops)\n",
    "for i in range(X.shape[0]):\n",
    "    for j in range(Y.shape[0]):\n",
    "        expected_ij = np.sqrt(np.sum(np.square(X[i,:]-Y[j,:])))\n",
    "        assert np.isclose(diffs1[i,j], expected_ij), f'mismatch at i={i}, j={j}'\n",
    "print('All close')\n"
   ]
  },
  {
   "cell_type": "code",
   "execution_count": 195,
   "id": "baking-studio",
   "metadata": {},
   "outputs": [
    {
     "data": {
      "text/plain": [
       "array([[2, 2, 2],\n",
       "       [3, 3, 3],\n",
       "       [4, 4, 4],\n",
       "       [5, 5, 5],\n",
       "       [6, 6, 6]])"
      ]
     },
     "execution_count": 195,
     "metadata": {},
     "output_type": "execute_result"
    }
   ],
   "source": [
    "Y - x_test"
   ]
  },
  {
   "cell_type": "code",
   "execution_count": 197,
   "id": "small-supplement",
   "metadata": {},
   "outputs": [
    {
     "data": {
      "text/plain": [
       "array([ 3.46410162,  5.19615242,  6.92820323,  8.66025404, 10.39230485])"
      ]
     },
     "execution_count": 197,
     "metadata": {},
     "output_type": "execute_result"
    }
   ],
   "source": [
    "np.sqrt( np.sum(np.square(Y - x_test), axis=1) )"
   ]
  },
  {
   "cell_type": "code",
   "execution_count": 192,
   "id": "emerging-simulation",
   "metadata": {},
   "outputs": [
    {
     "data": {
      "text/plain": [
       "array([ -12,  -27,  -48,  -75, -108])"
      ]
     },
     "execution_count": 192,
     "metadata": {},
     "output_type": "execute_result"
    }
   ],
   "source": [
    "dists_row = np.sum(np.square(Y - x_test), axis=1)\n",
    "dists_row"
   ]
  },
  {
   "cell_type": "code",
   "execution_count": null,
   "id": "developmental-nightmare",
   "metadata": {},
   "outputs": [],
   "source": []
  },
  {
   "cell_type": "code",
   "execution_count": null,
   "id": "hawaiian-neutral",
   "metadata": {},
   "outputs": [],
   "source": []
  },
  {
   "cell_type": "code",
   "execution_count": null,
   "id": "chronic-advancement",
   "metadata": {},
   "outputs": [],
   "source": []
  },
  {
   "cell_type": "markdown",
   "id": "chicken-bottle",
   "metadata": {},
   "source": [
    "## Zero for loops approach (memory inefficient)"
   ]
  },
  {
   "cell_type": "code",
   "execution_count": 135,
   "id": "knowing-production",
   "metadata": {},
   "outputs": [
    {
     "name": "stdout",
     "output_type": "stream",
     "text": [
      "(4, 3, 1)\n"
     ]
    }
   ],
   "source": [
    "# need to augment X so it has a trailing-1 dimension\n",
    "XX = X[:, :, np.newaxis]\n",
    "print(XX.shape)\n",
    "# XX"
   ]
  },
  {
   "cell_type": "code",
   "execution_count": 148,
   "id": "unusual-filename",
   "metadata": {},
   "outputs": [],
   "source": [
    "## Another way to do the same thing w/o using np.newaxis\n",
    "# XX = X.reshape(*X.shape, 1)\n",
    "# print(XX.shape)\n",
    "# XX"
   ]
  },
  {
   "cell_type": "code",
   "execution_count": null,
   "id": "secure-inspector",
   "metadata": {},
   "outputs": [],
   "source": []
  },
  {
   "cell_type": "code",
   "execution_count": null,
   "id": "promotional-syracuse",
   "metadata": {},
   "outputs": [],
   "source": []
  },
  {
   "cell_type": "code",
   "execution_count": 254,
   "id": "expected-torture",
   "metadata": {},
   "outputs": [
    {
     "name": "stdout",
     "output_type": "stream",
     "text": [
      "XX.shape (4, 3, 1)\n",
      "Y.T.shape (3, 5)\n",
      "(XX - Y.T).shape (4, 3, 5)\n"
     ]
    },
    {
     "data": {
      "text/plain": [
       "array([[[-5, -6, -7, -8, -9],\n",
       "        [-4, -5, -6, -7, -8],\n",
       "        [-3, -4, -5, -6, -7]],\n",
       "\n",
       "       [[-4, -5, -6, -7, -8],\n",
       "        [-4, -5, -6, -7, -8],\n",
       "        [-4, -5, -6, -7, -8]],\n",
       "\n",
       "       [[-3, -4, -5, -6, -7],\n",
       "        [-3, -4, -5, -6, -7],\n",
       "        [-3, -4, -5, -6, -7]],\n",
       "\n",
       "       [[-2, -3, -4, -5, -6],\n",
       "        [-2, -3, -4, -5, -6],\n",
       "        [-2, -3, -4, -5, -6]]])"
      ]
     },
     "execution_count": 254,
     "metadata": {},
     "output_type": "execute_result"
    }
   ],
   "source": [
    "# compute the difference\n",
    "print('XX.shape', XX.shape)\n",
    "print('Y.T.shape', Y.T.shape)\n",
    "print('(XX - Y.T).shape', (XX - Y.T).shape)\n",
    "XX - Y.T"
   ]
  },
  {
   "cell_type": "code",
   "execution_count": null,
   "id": "super-light",
   "metadata": {},
   "outputs": [],
   "source": []
  },
  {
   "cell_type": "code",
   "execution_count": 230,
   "id": "chubby-reproduction",
   "metadata": {},
   "outputs": [
    {
     "data": {
      "text/plain": [
       "array([[ 7.07106781,  8.77496439, 10.48808848, 12.20655562, 13.92838828],\n",
       "       [ 6.92820323,  8.66025404, 10.39230485, 12.12435565, 13.85640646],\n",
       "       [ 5.19615242,  6.92820323,  8.66025404, 10.39230485, 12.12435565],\n",
       "       [ 3.46410162,  5.19615242,  6.92820323,  8.66025404, 10.39230485]])"
      ]
     },
     "execution_count": 230,
     "metadata": {},
     "output_type": "execute_result"
    }
   ],
   "source": [
    "# reduce using sum along middle dimension\n",
    "diffs0m = np.sqrt(np.sum(np.square(XX - Y.T), axis=1))\n",
    "diffs0m"
   ]
  },
  {
   "cell_type": "code",
   "execution_count": null,
   "id": "approved-thailand",
   "metadata": {},
   "outputs": [],
   "source": []
  },
  {
   "cell_type": "code",
   "execution_count": 231,
   "id": "creative-board",
   "metadata": {},
   "outputs": [
    {
     "name": "stdout",
     "output_type": "stream",
     "text": [
      "All close\n"
     ]
    }
   ],
   "source": [
    "# check diffs0m against naive method (two for loops)\n",
    "for i in range(X.shape[0]):\n",
    "    for j in range(Y.shape[0]):\n",
    "        expected_ij = np.sqrt(np.sum(np.square(X[i,:]-Y[j,:])))\n",
    "        assert np.isclose(diffs0m[i,j], expected_ij), f'mismatch at i={i}, j={j}'\n",
    "print('All close')"
   ]
  },
  {
   "cell_type": "code",
   "execution_count": 258,
   "id": "operational-cheat",
   "metadata": {},
   "outputs": [
    {
     "name": "stdout",
     "output_type": "stream",
     "text": [
      "Using this memory inefficient way in assignment would require\n",
      "480 bytes\n"
     ]
    }
   ],
   "source": [
    "# note this is very memory inefficient\n",
    "# float64 or int64 take up 8 bytes (64 bits)\n",
    "# and we have an intermediate result array of shape (4, 3, 5) \n",
    "# so this way would require allocating memory for intemrediate step:\n",
    "print('Using this memory inefficient way in assignment would require')\n",
    "print(8*(4*3*5), 'bytes')"
   ]
  },
  {
   "cell_type": "code",
   "execution_count": 259,
   "id": "opened-howard",
   "metadata": {},
   "outputs": [
    {
     "name": "stdout",
     "output_type": "stream",
     "text": [
      "Using this memory inefficient way in assignment would require\n",
      "57.220458984375 GB\n"
     ]
    }
   ],
   "source": [
    "# float64 or int64 take up 8 bytes (64 bits)\n",
    "# and we have an intermediate result array of shape (500, 3072, 5000) \n",
    "# so this way would require:\n",
    "print('Using this memory inefficient way in assignment would require')\n",
    "print(8*(500*3072*5000)/1024/1024/1024, 'GB')"
   ]
  },
  {
   "cell_type": "code",
   "execution_count": null,
   "id": "leading-billion",
   "metadata": {},
   "outputs": [],
   "source": []
  },
  {
   "cell_type": "code",
   "execution_count": null,
   "id": "united-thought",
   "metadata": {},
   "outputs": [],
   "source": []
  },
  {
   "cell_type": "markdown",
   "id": "expressed-oliver",
   "metadata": {},
   "source": [
    "## Zero for loops approach (fast)\n",
    "\n",
    "Rewrite using \n",
    "\n",
    "![rewrite trick](https://miro.medium.com/max/776/1*ZU5JN1yhEr6ga_N772gInA.png)"
   ]
  },
  {
   "cell_type": "code",
   "execution_count": 215,
   "id": "stock-strap",
   "metadata": {},
   "outputs": [
    {
     "data": {
      "text/plain": [
       "array([[0, 1, 2],\n",
       "       [1, 1, 1],\n",
       "       [2, 2, 2],\n",
       "       [3, 3, 3]])"
      ]
     },
     "execution_count": 215,
     "metadata": {},
     "output_type": "execute_result"
    }
   ],
   "source": [
    "X"
   ]
  },
  {
   "cell_type": "code",
   "execution_count": 224,
   "id": "seeing-understanding",
   "metadata": {},
   "outputs": [
    {
     "data": {
      "text/plain": [
       "array([[ 5],\n",
       "       [ 3],\n",
       "       [12],\n",
       "       [27]])"
      ]
     },
     "execution_count": 224,
     "metadata": {},
     "output_type": "execute_result"
    }
   ],
   "source": [
    "XSQ = np.sum(np.square(X), axis=1)[:, np.newaxis]\n",
    "XSQ"
   ]
  },
  {
   "cell_type": "code",
   "execution_count": 225,
   "id": "lovely-vampire",
   "metadata": {},
   "outputs": [
    {
     "data": {
      "text/plain": [
       "array([[ 75, 108, 147, 192, 243]])"
      ]
     },
     "execution_count": 225,
     "metadata": {},
     "output_type": "execute_result"
    }
   ],
   "source": [
    "YSQ = np.sum(np.square(Y), axis=1)[np.newaxis,:]\n",
    "YSQ"
   ]
  },
  {
   "cell_type": "code",
   "execution_count": 236,
   "id": "automotive-words",
   "metadata": {},
   "outputs": [
    {
     "data": {
      "text/plain": [
       "array([[ 80, 113, 152, 197, 248],\n",
       "       [ 78, 111, 150, 195, 246],\n",
       "       [ 87, 120, 159, 204, 255],\n",
       "       [102, 135, 174, 219, 270]])"
      ]
     },
     "execution_count": 236,
     "metadata": {},
     "output_type": "execute_result"
    }
   ],
   "source": [
    "XSQ + YSQ"
   ]
  },
  {
   "cell_type": "code",
   "execution_count": 238,
   "id": "endless-advice",
   "metadata": {},
   "outputs": [],
   "source": [
    "diffs0 = np.sqrt(XSQ + YSQ - 2*X.dot(Y.T))"
   ]
  },
  {
   "cell_type": "code",
   "execution_count": 239,
   "id": "accessible-literature",
   "metadata": {},
   "outputs": [
    {
     "data": {
      "text/plain": [
       "array([[ 7.07106781,  8.77496439, 10.48808848, 12.20655562, 13.92838828],\n",
       "       [ 6.92820323,  8.66025404, 10.39230485, 12.12435565, 13.85640646],\n",
       "       [ 5.19615242,  6.92820323,  8.66025404, 10.39230485, 12.12435565],\n",
       "       [ 3.46410162,  5.19615242,  6.92820323,  8.66025404, 10.39230485]])"
      ]
     },
     "execution_count": 239,
     "metadata": {},
     "output_type": "execute_result"
    }
   ],
   "source": [
    "diffs0"
   ]
  },
  {
   "cell_type": "code",
   "execution_count": 240,
   "id": "working-mineral",
   "metadata": {},
   "outputs": [
    {
     "name": "stdout",
     "output_type": "stream",
     "text": [
      "All close\n"
     ]
    }
   ],
   "source": [
    "# check diffs0 against naive method (two for loops)\n",
    "for i in range(X.shape[0]):\n",
    "    for j in range(Y.shape[0]):\n",
    "        expected_ij = np.sqrt(np.sum(np.square(X[i,:]-Y[j,:])))\n",
    "        assert np.isclose(diffs0[i,j], expected_ij), f'mismatch at i={i}, j={j}'\n",
    "print('All close')"
   ]
  },
  {
   "cell_type": "code",
   "execution_count": null,
   "id": "analyzed-management",
   "metadata": {},
   "outputs": [],
   "source": []
  },
  {
   "cell_type": "code",
   "execution_count": null,
   "id": "excessive-marking",
   "metadata": {},
   "outputs": [],
   "source": []
  },
  {
   "cell_type": "code",
   "execution_count": null,
   "id": "faced-collector",
   "metadata": {},
   "outputs": [],
   "source": []
  },
  {
   "cell_type": "code",
   "execution_count": null,
   "id": "forced-ground",
   "metadata": {},
   "outputs": [],
   "source": []
  },
  {
   "cell_type": "code",
   "execution_count": null,
   "id": "incoming-sweden",
   "metadata": {},
   "outputs": [],
   "source": []
  },
  {
   "cell_type": "code",
   "execution_count": 260,
   "id": "unnecessary-basic",
   "metadata": {},
   "outputs": [],
   "source": [
    "x = np.arange(9)"
   ]
  },
  {
   "cell_type": "code",
   "execution_count": 268,
   "id": "desperate-maryland",
   "metadata": {},
   "outputs": [
    {
     "data": {
      "text/plain": [
       "[array([0, 1, 2]), array([3, 4]), array([5, 6]), array([7, 8])]"
      ]
     },
     "execution_count": 268,
     "metadata": {},
     "output_type": "execute_result"
    }
   ],
   "source": [
    "splits = np.array_split(x, 4)\n",
    "splits"
   ]
  },
  {
   "cell_type": "code",
   "execution_count": 272,
   "id": "southwest-arrow",
   "metadata": {},
   "outputs": [
    {
     "data": {
      "text/plain": [
       "array([0, 1, 2, 5, 6])"
      ]
     },
     "execution_count": 272,
     "metadata": {},
     "output_type": "execute_result"
    }
   ],
   "source": [
    "np.concatenate((splits[0], splits[2]))"
   ]
  },
  {
   "cell_type": "code",
   "execution_count": 274,
   "id": "listed-blond",
   "metadata": {},
   "outputs": [
    {
     "data": {
      "text/plain": [
       "array([0., 0., 0.])"
      ]
     },
     "execution_count": 274,
     "metadata": {},
     "output_type": "execute_result"
    }
   ],
   "source": [
    "accuracies = np.zeros(3)\n",
    "accuracies"
   ]
  },
  {
   "cell_type": "code",
   "execution_count": null,
   "id": "loaded-sigma",
   "metadata": {},
   "outputs": [],
   "source": []
  }
 ],
 "metadata": {
  "kernelspec": {
   "display_name": "Python 3",
   "language": "python",
   "name": "python3"
  },
  "language_info": {
   "codemirror_mode": {
    "name": "ipython",
    "version": 3
   },
   "file_extension": ".py",
   "mimetype": "text/x-python",
   "name": "python",
   "nbconvert_exporter": "python",
   "pygments_lexer": "ipython3",
   "version": "3.6.9"
  }
 },
 "nbformat": 4,
 "nbformat_minor": 5
}
